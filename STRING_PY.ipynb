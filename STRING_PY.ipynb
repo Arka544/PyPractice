{
  "nbformat": 4,
  "nbformat_minor": 0,
  "metadata": {
    "kernelspec": {
      "display_name": "Python 3",
      "language": "python",
      "name": "python3"
    },
    "language_info": {
      "codemirror_mode": {
        "name": "ipython",
        "version": 3
      },
      "file_extension": ".py",
      "mimetype": "text/x-python",
      "name": "python",
      "nbconvert_exporter": "python",
      "pygments_lexer": "ipython3",
      "version": "3.8.5"
    },
    "colab": {
      "name": "STRING_PY.ipynb",
      "provenance": [],
      "include_colab_link": true
    }
  },
  "cells": [
    {
      "cell_type": "markdown",
      "metadata": {
        "id": "view-in-github",
        "colab_type": "text"
      },
      "source": [
        "<a href=\"https://colab.research.google.com/github/Arka544/PyPractice/blob/main/STRING_PY.ipynb\" target=\"_parent\"><img src=\"https://colab.research.google.com/assets/colab-badge.svg\" alt=\"Open In Colab\"/></a>"
      ]
    },
    {
      "cell_type": "code",
      "metadata": {
        "colab": {
          "base_uri": "https://localhost:8080/",
          "height": 37
        },
        "id": "21PDatLYKb5S",
        "outputId": "70974cff-2d40-4896-a50a-c98b31df5139"
      },
      "source": [
        "# Single word statement\n",
        "'hello'"
      ],
      "execution_count": 1,
      "outputs": [
        {
          "output_type": "execute_result",
          "data": {
            "application/vnd.google.colaboratory.intrinsic+json": {
              "type": "string"
            },
            "text/plain": [
              "'hello'"
            ]
          },
          "metadata": {
            "tags": []
          },
          "execution_count": 1
        }
      ]
    },
    {
      "cell_type": "code",
      "metadata": {
        "colab": {
          "base_uri": "https://localhost:8080/",
          "height": 37
        },
        "id": "k2D4WbAKKb5a",
        "outputId": "479cc7e6-b9bf-4c2a-8f97-dc7c555ee8c8"
      },
      "source": [
        "# ENTIRE LINE\n",
        "'My name is Arkaprabha Samanta'"
      ],
      "execution_count": 2,
      "outputs": [
        {
          "output_type": "execute_result",
          "data": {
            "application/vnd.google.colaboratory.intrinsic+json": {
              "type": "string"
            },
            "text/plain": [
              "'My name is Arkaprabha Samanta'"
            ]
          },
          "metadata": {
            "tags": []
          },
          "execution_count": 2
        }
      ]
    },
    {
      "cell_type": "code",
      "metadata": {
        "colab": {
          "base_uri": "https://localhost:8080/",
          "height": 37
        },
        "id": "p53K38IMKb5b",
        "outputId": "1534d834-5bd7-4dc7-bc14-7d37886037d2"
      },
      "source": [
        "#using double quotes\n",
        "\"Hello! This is Arkaprabha Samanta\""
      ],
      "execution_count": 3,
      "outputs": [
        {
          "output_type": "execute_result",
          "data": {
            "application/vnd.google.colaboratory.intrinsic+json": {
              "type": "string"
            },
            "text/plain": [
              "'Hello! This is Arkaprabha Samanta'"
            ]
          },
          "metadata": {
            "tags": []
          },
          "execution_count": 3
        }
      ]
    },
    {
      "cell_type": "code",
      "metadata": {
        "colab": {
          "base_uri": "https://localhost:8080/",
          "height": 136
        },
        "id": "h52NxICIKb5d",
        "outputId": "93b2fcd4-f36d-4376-8d69-06e404750768"
      },
      "source": [
        "#Quotes are risky.. be careful\n",
        "' I'm Arkaprabha Samanta.. Bhut this is an error'"
      ],
      "execution_count": 4,
      "outputs": [
        {
          "output_type": "error",
          "ename": "SyntaxError",
          "evalue": "ignored",
          "traceback": [
            "\u001b[0;36m  File \u001b[0;32m\"<ipython-input-4-4c0585194136>\"\u001b[0;36m, line \u001b[0;32m2\u001b[0m\n\u001b[0;31m    ' I'm Arkaprabha Samanta.. Bhut this is an error'\u001b[0m\n\u001b[0m        ^\u001b[0m\n\u001b[0;31mSyntaxError\u001b[0m\u001b[0;31m:\u001b[0m invalid syntax\n"
          ]
        }
      ]
    },
    {
      "cell_type": "code",
      "metadata": {
        "colab": {
          "base_uri": "https://localhost:8080/",
          "height": 37
        },
        "id": "689eHrCCKb5f",
        "outputId": "d72bb120-03e1-42df-ab43-fdb7bac1ae91"
      },
      "source": [
        "#problem solved!\n",
        "\"Problem solved! I'm able to use single quotes\""
      ],
      "execution_count": 5,
      "outputs": [
        {
          "output_type": "execute_result",
          "data": {
            "application/vnd.google.colaboratory.intrinsic+json": {
              "type": "string"
            },
            "text/plain": [
              "\"Problem solved! I'm able to use single quotes\""
            ]
          },
          "metadata": {
            "tags": []
          },
          "execution_count": 5
        }
      ]
    },
    {
      "cell_type": "code",
      "metadata": {
        "colab": {
          "base_uri": "https://localhost:8080/",
          "height": 37
        },
        "id": "etb236LeKb5h",
        "outputId": "e6771c71-5864-4ab9-d416-848b3ae1c65b"
      },
      "source": [
        "# Declare a string\n",
        "'Hello World'"
      ],
      "execution_count": 6,
      "outputs": [
        {
          "output_type": "execute_result",
          "data": {
            "application/vnd.google.colaboratory.intrinsic+json": {
              "type": "string"
            },
            "text/plain": [
              "'Hello World'"
            ]
          },
          "metadata": {
            "tags": []
          },
          "execution_count": 6
        }
      ]
    },
    {
      "cell_type": "code",
      "metadata": {
        "colab": {
          "base_uri": "https://localhost:8080/",
          "height": 37
        },
        "id": "HCFeEPRJKb5l",
        "outputId": "88c67a36-ad57-498d-d346-d6fab5adc8fb"
      },
      "source": [
        "# Both the statements will not print\n",
        "'Hello World 1'\n",
        "'Hello World 2'"
      ],
      "execution_count": 7,
      "outputs": [
        {
          "output_type": "execute_result",
          "data": {
            "application/vnd.google.colaboratory.intrinsic+json": {
              "type": "string"
            },
            "text/plain": [
              "'Hello World 2'"
            ]
          },
          "metadata": {
            "tags": []
          },
          "execution_count": 7
        }
      ]
    },
    {
      "cell_type": "code",
      "metadata": {
        "colab": {
          "base_uri": "https://localhost:8080/"
        },
        "id": "0t-8iSiAKb5l",
        "outputId": "04e04f03-6f51-4af0-9476-a14b634b1467"
      },
      "source": [
        "#For this we need print statement\n",
        "print(\"Hello1\")\n",
        "print(\"Hello2\")"
      ],
      "execution_count": 8,
      "outputs": [
        {
          "output_type": "stream",
          "text": [
            "Hello1\n",
            "Hello2\n"
          ],
          "name": "stdout"
        }
      ]
    },
    {
      "cell_type": "code",
      "metadata": {
        "colab": {
          "base_uri": "https://localhost:8080/"
        },
        "id": "pH_wKrLaKb5n",
        "outputId": "b83b2cf7-60d9-409b-9444-7b24cb0a4f98"
      },
      "source": [
        "#for new line\n",
        "print(\"Hello1\")\n",
        "print(\"Hello2\")\n",
        "print(\"New line\")\n",
        "print(\"\\n\")\n",
        "print(\"Hello! This is Arka\")"
      ],
      "execution_count": 9,
      "outputs": [
        {
          "output_type": "stream",
          "text": [
            "Hello1\n",
            "Hello2\n",
            "New line\n",
            "\n",
            "\n",
            "Hello! This is Arka\n"
          ],
          "name": "stdout"
        }
      ]
    },
    {
      "cell_type": "code",
      "metadata": {
        "colab": {
          "base_uri": "https://localhost:8080/"
        },
        "id": "nogpeqVSKb5q",
        "outputId": "9d7a7211-b1ec-4d7b-dc8b-13f31b40456a"
      },
      "source": [
        "print(\"Hello1\")\n",
        "print(\"\\n\")\n",
        "print(\"Hello2\")\n",
        "print(\"New line\")\n",
        "print(\"\\n\")\n",
        "print(\"Hello! This is Arka\")"
      ],
      "execution_count": 10,
      "outputs": [
        {
          "output_type": "stream",
          "text": [
            "Hello1\n",
            "\n",
            "\n",
            "Hello2\n",
            "New line\n",
            "\n",
            "\n",
            "Hello! This is Arka\n"
          ],
          "name": "stdout"
        }
      ]
    },
    {
      "cell_type": "code",
      "metadata": {
        "colab": {
          "base_uri": "https://localhost:8080/"
        },
        "id": "4OiRvQ2FKb5s",
        "outputId": "9a78ff83-310e-485b-adf0-c6760139d53f"
      },
      "source": [
        "print(\"Hello1\")\n",
        "print(\"\\n\")\n",
        "print(\"Hello2\")\n",
        "print(\"\\n\")\n",
        "print(\"New line\")\n",
        "print(\"\\n\")\n",
        "print(\"Hello! This is Arka\")"
      ],
      "execution_count": 11,
      "outputs": [
        {
          "output_type": "stream",
          "text": [
            "Hello1\n",
            "\n",
            "\n",
            "Hello2\n",
            "\n",
            "\n",
            "New line\n",
            "\n",
            "\n",
            "Hello! This is Arka\n"
          ],
          "name": "stdout"
        }
      ]
    },
    {
      "cell_type": "code",
      "metadata": {
        "colab": {
          "base_uri": "https://localhost:8080/"
        },
        "id": "1xGyFKDlKb5v",
        "outputId": "7f3c9d96-3da9-439e-d9af-cf46e940b197"
      },
      "source": [
        "print(\"Hello1\\n\")\n",
        "print(\"Hello2\\n\")\n",
        "print(\"New line\\n\")\n",
        "print(\"Hello! This is Arka\")"
      ],
      "execution_count": 12,
      "outputs": [
        {
          "output_type": "stream",
          "text": [
            "Hello1\n",
            "\n",
            "Hello2\n",
            "\n",
            "New line\n",
            "\n",
            "Hello! This is Arka\n"
          ],
          "name": "stdout"
        }
      ]
    },
    {
      "cell_type": "code",
      "metadata": {
        "id": "zNhKhyTYKb5w"
      },
      "source": [
        "#Assigning\n",
        "st= 'I am Arka'"
      ],
      "execution_count": 13,
      "outputs": []
    },
    {
      "cell_type": "code",
      "metadata": {
        "colab": {
          "base_uri": "https://localhost:8080/",
          "height": 37
        },
        "id": "YvLSk2T_Kb5x",
        "outputId": "c37fce89-4199-4be7-a1ec-469b8313f10e"
      },
      "source": [
        "st"
      ],
      "execution_count": 14,
      "outputs": [
        {
          "output_type": "execute_result",
          "data": {
            "application/vnd.google.colaboratory.intrinsic+json": {
              "type": "string"
            },
            "text/plain": [
              "'I am Arka'"
            ]
          },
          "metadata": {
            "tags": []
          },
          "execution_count": 14
        }
      ]
    },
    {
      "cell_type": "code",
      "metadata": {
        "colab": {
          "base_uri": "https://localhost:8080/"
        },
        "id": "i_K5zPGPKb5y",
        "outputId": "678b65b0-a36e-4d8c-9980-41fdcaaa020c"
      },
      "source": [
        "#print object\n",
        "print(st)"
      ],
      "execution_count": 15,
      "outputs": [
        {
          "output_type": "stream",
          "text": [
            "I am Arka\n"
          ],
          "name": "stdout"
        }
      ]
    },
    {
      "cell_type": "code",
      "metadata": {
        "colab": {
          "base_uri": "https://localhost:8080/",
          "height": 37
        },
        "id": "zf6-b7-lKb5y",
        "outputId": "19154a63-c4e0-414b-e887-667b0bb82686"
      },
      "source": [
        "\"\"\"Indexing\n",
        "Printing the first element- Index 0\"\"\"\n",
        "st[0]\n"
      ],
      "execution_count": 16,
      "outputs": [
        {
          "output_type": "execute_result",
          "data": {
            "application/vnd.google.colaboratory.intrinsic+json": {
              "type": "string"
            },
            "text/plain": [
              "'I'"
            ]
          },
          "metadata": {
            "tags": []
          },
          "execution_count": 16
        }
      ]
    },
    {
      "cell_type": "code",
      "metadata": {
        "colab": {
          "base_uri": "https://localhost:8080/",
          "height": 37
        },
        "id": "kHOuSCoQKb50",
        "outputId": "0151242a-42f0-4e90-fcfe-054962bcde3e"
      },
      "source": [
        "\n",
        "st[1]"
      ],
      "execution_count": 17,
      "outputs": [
        {
          "output_type": "execute_result",
          "data": {
            "application/vnd.google.colaboratory.intrinsic+json": {
              "type": "string"
            },
            "text/plain": [
              "' '"
            ]
          },
          "metadata": {
            "tags": []
          },
          "execution_count": 17
        }
      ]
    },
    {
      "cell_type": "code",
      "metadata": {
        "colab": {
          "base_uri": "https://localhost:8080/",
          "height": 37
        },
        "id": "c3Vuo23MKb51",
        "outputId": "bd9dbc41-0079-4d5d-a64f-c8e241e982cb"
      },
      "source": [
        "\n",
        "st[2]"
      ],
      "execution_count": 18,
      "outputs": [
        {
          "output_type": "execute_result",
          "data": {
            "application/vnd.google.colaboratory.intrinsic+json": {
              "type": "string"
            },
            "text/plain": [
              "'a'"
            ]
          },
          "metadata": {
            "tags": []
          },
          "execution_count": 18
        }
      ]
    },
    {
      "cell_type": "code",
      "metadata": {
        "colab": {
          "base_uri": "https://localhost:8080/",
          "height": 37
        },
        "id": "8HEvrKA2Kb51",
        "outputId": "ef867fd9-8c6e-4a45-e29b-a3c4d3f6a0b2"
      },
      "source": [
        "st[1] \n",
        "st[3] \n",
        "st[5]"
      ],
      "execution_count": 19,
      "outputs": [
        {
          "output_type": "execute_result",
          "data": {
            "application/vnd.google.colaboratory.intrinsic+json": {
              "type": "string"
            },
            "text/plain": [
              "'A'"
            ]
          },
          "metadata": {
            "tags": []
          },
          "execution_count": 19
        }
      ]
    },
    {
      "cell_type": "code",
      "metadata": {
        "colab": {
          "base_uri": "https://localhost:8080/"
        },
        "id": "4vJwpq09Kb52",
        "outputId": "cf32e92a-ec36-454d-ec60-f2660cdb0fea"
      },
      "source": [
        "\n",
        "print(st[0])\n",
        "print(st[2]) \n",
        "print(st[5])"
      ],
      "execution_count": 20,
      "outputs": [
        {
          "output_type": "stream",
          "text": [
            "I\n",
            "a\n",
            "A\n"
          ],
          "name": "stdout"
        }
      ]
    },
    {
      "cell_type": "code",
      "metadata": {
        "colab": {
          "base_uri": "https://localhost:8080/"
        },
        "id": "yjB0AH1_Kb52",
        "outputId": "9110b14d-eb22-4f8b-98d8-521a6bb5989c"
      },
      "source": [
        "print(st[0])\n",
        "print(st[2]) \n",
        "print(st[3])\n",
        "print(st[5])\n",
        "print(st[6]) \n",
        "print(st[7])\n",
        "print (st[8])"
      ],
      "execution_count": 21,
      "outputs": [
        {
          "output_type": "stream",
          "text": [
            "I\n",
            "a\n",
            "m\n",
            "A\n",
            "r\n",
            "k\n",
            "a\n"
          ],
          "name": "stdout"
        }
      ]
    },
    {
      "cell_type": "code",
      "metadata": {
        "id": "pyeem8SGKb53"
      },
      "source": [
        "st = 'Hello World'"
      ],
      "execution_count": 22,
      "outputs": []
    },
    {
      "cell_type": "code",
      "metadata": {
        "colab": {
          "base_uri": "https://localhost:8080/",
          "height": 37
        },
        "id": "6qF53ZF5Kb53",
        "outputId": "d20d985f-a45b-480e-f545-6e1676b7cf03"
      },
      "source": [
        "#Prints everything post the 1st term\n",
        "st[1:]"
      ],
      "execution_count": 23,
      "outputs": [
        {
          "output_type": "execute_result",
          "data": {
            "application/vnd.google.colaboratory.intrinsic+json": {
              "type": "string"
            },
            "text/plain": [
              "'ello World'"
            ]
          },
          "metadata": {
            "tags": []
          },
          "execution_count": 23
        }
      ]
    },
    {
      "cell_type": "code",
      "metadata": {
        "colab": {
          "base_uri": "https://localhost:8080/",
          "height": 37
        },
        "id": "RB-lRMrlKb55",
        "outputId": "c0208dcb-983f-4262-aaff-21d35a95a992"
      },
      "source": [
        "st[5:]"
      ],
      "execution_count": 24,
      "outputs": [
        {
          "output_type": "execute_result",
          "data": {
            "application/vnd.google.colaboratory.intrinsic+json": {
              "type": "string"
            },
            "text/plain": [
              "' World'"
            ]
          },
          "metadata": {
            "tags": []
          },
          "execution_count": 24
        }
      ]
    },
    {
      "cell_type": "code",
      "metadata": {
        "colab": {
          "base_uri": "https://localhost:8080/",
          "height": 37
        },
        "id": "GUyBT-YHKb56",
        "outputId": "1949ba73-cb95-43dc-e2bb-85e9ab418b23"
      },
      "source": [
        "st[1:4]"
      ],
      "execution_count": 25,
      "outputs": [
        {
          "output_type": "execute_result",
          "data": {
            "application/vnd.google.colaboratory.intrinsic+json": {
              "type": "string"
            },
            "text/plain": [
              "'ell'"
            ]
          },
          "metadata": {
            "tags": []
          },
          "execution_count": 25
        }
      ]
    },
    {
      "cell_type": "code",
      "metadata": {
        "colab": {
          "base_uri": "https://localhost:8080/",
          "height": 37
        },
        "id": "mJnmF-OtKb57",
        "outputId": "fb1f7043-4bb9-4e86-ef2e-acec683cd91e"
      },
      "source": [
        "st[:]"
      ],
      "execution_count": 26,
      "outputs": [
        {
          "output_type": "execute_result",
          "data": {
            "application/vnd.google.colaboratory.intrinsic+json": {
              "type": "string"
            },
            "text/plain": [
              "'Hello World'"
            ]
          },
          "metadata": {
            "tags": []
          },
          "execution_count": 26
        }
      ]
    },
    {
      "cell_type": "code",
      "metadata": {
        "colab": {
          "base_uri": "https://localhost:8080/",
          "height": 37
        },
        "id": "Xl-ayYQqKb57",
        "outputId": "df84bfa1-0cb0-4651-83a8-e6cb917fb0e8"
      },
      "source": [
        "\n",
        "st[:-1]"
      ],
      "execution_count": 27,
      "outputs": [
        {
          "output_type": "execute_result",
          "data": {
            "application/vnd.google.colaboratory.intrinsic+json": {
              "type": "string"
            },
            "text/plain": [
              "'Hello Worl'"
            ]
          },
          "metadata": {
            "tags": []
          },
          "execution_count": 27
        }
      ]
    },
    {
      "cell_type": "code",
      "metadata": {
        "colab": {
          "base_uri": "https://localhost:8080/",
          "height": 37
        },
        "id": "B-OUJ5DPKb57",
        "outputId": "eb71513d-f4c6-49ac-b5d0-2d055d2bb7da"
      },
      "source": [
        "st[-1]"
      ],
      "execution_count": 28,
      "outputs": [
        {
          "output_type": "execute_result",
          "data": {
            "application/vnd.google.colaboratory.intrinsic+json": {
              "type": "string"
            },
            "text/plain": [
              "'d'"
            ]
          },
          "metadata": {
            "tags": []
          },
          "execution_count": 28
        }
      ]
    },
    {
      "cell_type": "code",
      "metadata": {
        "colab": {
          "base_uri": "https://localhost:8080/",
          "height": 37
        },
        "id": "ribiCTcvKb57",
        "outputId": "8b7ecfd3-7a96-4b71-b92b-b993d9c735b9"
      },
      "source": [
        "st[-4:-1]"
      ],
      "execution_count": 29,
      "outputs": [
        {
          "output_type": "execute_result",
          "data": {
            "application/vnd.google.colaboratory.intrinsic+json": {
              "type": "string"
            },
            "text/plain": [
              "'orl'"
            ]
          },
          "metadata": {
            "tags": []
          },
          "execution_count": 29
        }
      ]
    },
    {
      "cell_type": "code",
      "metadata": {
        "colab": {
          "base_uri": "https://localhost:8080/",
          "height": 37
        },
        "id": "I5SDRzfqKb58",
        "outputId": "e1d3ebe2-1127-4329-f4ea-60a903809369"
      },
      "source": [
        "st[-4:]"
      ],
      "execution_count": 30,
      "outputs": [
        {
          "output_type": "execute_result",
          "data": {
            "application/vnd.google.colaboratory.intrinsic+json": {
              "type": "string"
            },
            "text/plain": [
              "'orld'"
            ]
          },
          "metadata": {
            "tags": []
          },
          "execution_count": 30
        }
      ]
    },
    {
      "cell_type": "code",
      "metadata": {
        "colab": {
          "base_uri": "https://localhost:8080/",
          "height": 37
        },
        "id": "mQ_cH4vKKb58",
        "outputId": "0e0c9bc1-99c9-4f2c-d3fd-53f23bba3138"
      },
      "source": [
        "st[-4:0]"
      ],
      "execution_count": 31,
      "outputs": [
        {
          "output_type": "execute_result",
          "data": {
            "application/vnd.google.colaboratory.intrinsic+json": {
              "type": "string"
            },
            "text/plain": [
              "''"
            ]
          },
          "metadata": {
            "tags": []
          },
          "execution_count": 31
        }
      ]
    },
    {
      "cell_type": "code",
      "metadata": {
        "colab": {
          "base_uri": "https://localhost:8080/",
          "height": 37
        },
        "id": "P3uYENf4Kb59",
        "outputId": "e460c758-ca22-43e7-c57e-467c7fbf8a39"
      },
      "source": [
        "# Jumps two places and prints the element\n",
        "st[::2]"
      ],
      "execution_count": 32,
      "outputs": [
        {
          "output_type": "execute_result",
          "data": {
            "application/vnd.google.colaboratory.intrinsic+json": {
              "type": "string"
            },
            "text/plain": [
              "'HloWrd'"
            ]
          },
          "metadata": {
            "tags": []
          },
          "execution_count": 32
        }
      ]
    },
    {
      "cell_type": "code",
      "metadata": {
        "colab": {
          "base_uri": "https://localhost:8080/",
          "height": 37
        },
        "id": "Vih0EO3MKb5-",
        "outputId": "9c496c60-1305-46cb-b95d-7c43ccafff66"
      },
      "source": [
        "st[:2]"
      ],
      "execution_count": 33,
      "outputs": [
        {
          "output_type": "execute_result",
          "data": {
            "application/vnd.google.colaboratory.intrinsic+json": {
              "type": "string"
            },
            "text/plain": [
              "'He'"
            ]
          },
          "metadata": {
            "tags": []
          },
          "execution_count": 33
        }
      ]
    },
    {
      "cell_type": "code",
      "metadata": {
        "colab": {
          "base_uri": "https://localhost:8080/",
          "height": 37
        },
        "id": "qlqMPg8lKb5-",
        "outputId": "584008cc-2701-41d1-d3c7-6bf340b65eec"
      },
      "source": [
        "st[::4]"
      ],
      "execution_count": 34,
      "outputs": [
        {
          "output_type": "execute_result",
          "data": {
            "application/vnd.google.colaboratory.intrinsic+json": {
              "type": "string"
            },
            "text/plain": [
              "'Hor'"
            ]
          },
          "metadata": {
            "tags": []
          },
          "execution_count": 34
        }
      ]
    },
    {
      "cell_type": "code",
      "metadata": {
        "colab": {
          "base_uri": "https://localhost:8080/",
          "height": 37
        },
        "id": "TJ5xa2paKb5_",
        "outputId": "c740622d-5577-4f14-be5d-6b15692863d0"
      },
      "source": [
        "st[::8]"
      ],
      "execution_count": 35,
      "outputs": [
        {
          "output_type": "execute_result",
          "data": {
            "application/vnd.google.colaboratory.intrinsic+json": {
              "type": "string"
            },
            "text/plain": [
              "'Hr'"
            ]
          },
          "metadata": {
            "tags": []
          },
          "execution_count": 35
        }
      ]
    },
    {
      "cell_type": "code",
      "metadata": {
        "colab": {
          "base_uri": "https://localhost:8080/",
          "height": 37
        },
        "id": "C7SK0DIPKb5_",
        "outputId": "bf85be4b-087a-468f-8e68-d7e9a8d93536"
      },
      "source": [
        "# Print the string backwards\n",
        "st[::-1]"
      ],
      "execution_count": 36,
      "outputs": [
        {
          "output_type": "execute_result",
          "data": {
            "application/vnd.google.colaboratory.intrinsic+json": {
              "type": "string"
            },
            "text/plain": [
              "'dlroW olleH'"
            ]
          },
          "metadata": {
            "tags": []
          },
          "execution_count": 36
        }
      ]
    },
    {
      "cell_type": "code",
      "metadata": {
        "colab": {
          "base_uri": "https://localhost:8080/",
          "height": 37
        },
        "id": "-f6sXZeBKb5_",
        "outputId": "17ba03ca-f49f-4b38-9c9d-c01027a68718"
      },
      "source": [
        "st[:]"
      ],
      "execution_count": 37,
      "outputs": [
        {
          "output_type": "execute_result",
          "data": {
            "application/vnd.google.colaboratory.intrinsic+json": {
              "type": "string"
            },
            "text/plain": [
              "'Hello World'"
            ]
          },
          "metadata": {
            "tags": []
          },
          "execution_count": 37
        }
      ]
    },
    {
      "cell_type": "code",
      "metadata": {
        "colab": {
          "base_uri": "https://localhost:8080/"
        },
        "id": "zCLSoNXCKb5_",
        "outputId": "55abfe68-2a08-416e-9e0d-cdbfd603f14c"
      },
      "source": [
        "print (st[:])\n",
        "print (st[::-1])"
      ],
      "execution_count": 38,
      "outputs": [
        {
          "output_type": "stream",
          "text": [
            "Hello World\n",
            "dlroW olleH\n"
          ],
          "name": "stdout"
        }
      ]
    },
    {
      "cell_type": "code",
      "metadata": {
        "colab": {
          "base_uri": "https://localhost:8080/",
          "height": 174
        },
        "id": "XCE_9hvlKb6A",
        "outputId": "35024b71-3be5-4838-ef66-79332efb724e"
      },
      "source": [
        "st[0] = 'x'"
      ],
      "execution_count": 39,
      "outputs": [
        {
          "output_type": "error",
          "ename": "TypeError",
          "evalue": "ignored",
          "traceback": [
            "\u001b[0;31m---------------------------------------------------------------------------\u001b[0m",
            "\u001b[0;31mTypeError\u001b[0m                                 Traceback (most recent call last)",
            "\u001b[0;32m<ipython-input-39-419c5432ff39>\u001b[0m in \u001b[0;36m<module>\u001b[0;34m()\u001b[0m\n\u001b[0;32m----> 1\u001b[0;31m \u001b[0mst\u001b[0m\u001b[0;34m[\u001b[0m\u001b[0;36m0\u001b[0m\u001b[0;34m]\u001b[0m \u001b[0;34m=\u001b[0m \u001b[0;34m'x'\u001b[0m\u001b[0;34m\u001b[0m\u001b[0;34m\u001b[0m\u001b[0m\n\u001b[0m",
            "\u001b[0;31mTypeError\u001b[0m: 'str' object does not support item assignment"
          ]
        }
      ]
    },
    {
      "cell_type": "code",
      "metadata": {
        "colab": {
          "base_uri": "https://localhost:8080/",
          "height": 37
        },
        "id": "6cAQ162eKb6A",
        "outputId": "2f53e87c-dda0-4d09-8267-a2d6cba0c23e"
      },
      "source": [
        "st"
      ],
      "execution_count": 40,
      "outputs": [
        {
          "output_type": "execute_result",
          "data": {
            "application/vnd.google.colaboratory.intrinsic+json": {
              "type": "string"
            },
            "text/plain": [
              "'Hello World'"
            ]
          },
          "metadata": {
            "tags": []
          },
          "execution_count": 40
        }
      ]
    },
    {
      "cell_type": "code",
      "metadata": {
        "colab": {
          "base_uri": "https://localhost:8080/",
          "height": 37
        },
        "id": "9Kybax03Kb6A",
        "outputId": "4ba7e3ab-8d50-4b90-b95b-b046220912b0"
      },
      "source": [
        "st + '. This is a python program'"
      ],
      "execution_count": 41,
      "outputs": [
        {
          "output_type": "execute_result",
          "data": {
            "application/vnd.google.colaboratory.intrinsic+json": {
              "type": "string"
            },
            "text/plain": [
              "'Hello World. This is a python program'"
            ]
          },
          "metadata": {
            "tags": []
          },
          "execution_count": 41
        }
      ]
    },
    {
      "cell_type": "code",
      "metadata": {
        "id": "69x5hfaqKb6B"
      },
      "source": [
        "st= st + '. This is a Python Program'"
      ],
      "execution_count": 42,
      "outputs": []
    },
    {
      "cell_type": "code",
      "metadata": {
        "colab": {
          "base_uri": "https://localhost:8080/"
        },
        "id": "dlVWBxM7Kb6B",
        "outputId": "e38b5781-beb9-4b4b-f326-0ded1b3a0f2e"
      },
      "source": [
        "print(st)"
      ],
      "execution_count": 43,
      "outputs": [
        {
          "output_type": "stream",
          "text": [
            "Hello World. This is a Python Program\n"
          ],
          "name": "stdout"
        }
      ]
    },
    {
      "cell_type": "code",
      "metadata": {
        "id": "3nyoCLGXKb6C"
      },
      "source": [
        "name = 'a'"
      ],
      "execution_count": 44,
      "outputs": []
    },
    {
      "cell_type": "code",
      "metadata": {
        "colab": {
          "base_uri": "https://localhost:8080/",
          "height": 37
        },
        "id": "3VHjfd-MKb6D",
        "outputId": "17d612f8-2e54-428e-d4d6-db87b8ab80de"
      },
      "source": [
        "name*15"
      ],
      "execution_count": 45,
      "outputs": [
        {
          "output_type": "execute_result",
          "data": {
            "application/vnd.google.colaboratory.intrinsic+json": {
              "type": "string"
            },
            "text/plain": [
              "'aaaaaaaaaaaaaaa'"
            ]
          },
          "metadata": {
            "tags": []
          },
          "execution_count": 45
        }
      ]
    },
    {
      "cell_type": "code",
      "metadata": {
        "id": "GPm2RLIaKb6D"
      },
      "source": [
        "name = 'arkaprabha samanta'"
      ],
      "execution_count": 46,
      "outputs": []
    },
    {
      "cell_type": "code",
      "metadata": {
        "colab": {
          "base_uri": "https://localhost:8080/",
          "height": 37
        },
        "id": "-nfQXV7IKb6D",
        "outputId": "ac1f09ff-5d59-462c-9017-f247d5be58d6"
      },
      "source": [
        "name"
      ],
      "execution_count": 47,
      "outputs": [
        {
          "output_type": "execute_result",
          "data": {
            "application/vnd.google.colaboratory.intrinsic+json": {
              "type": "string"
            },
            "text/plain": [
              "'arkaprabha samanta'"
            ]
          },
          "metadata": {
            "tags": []
          },
          "execution_count": 47
        }
      ]
    },
    {
      "cell_type": "code",
      "metadata": {
        "colab": {
          "base_uri": "https://localhost:8080/"
        },
        "id": "XHavSTeaKb6E",
        "outputId": "04466972-2c8f-4fce-ce06-fb9e412e9985"
      },
      "source": [
        "print (name)"
      ],
      "execution_count": 48,
      "outputs": [
        {
          "output_type": "stream",
          "text": [
            "arkaprabha samanta\n"
          ],
          "name": "stdout"
        }
      ]
    },
    {
      "cell_type": "code",
      "metadata": {
        "colab": {
          "base_uri": "https://localhost:8080/"
        },
        "id": "WQFRQYnbKb6E",
        "outputId": "48e96076-e498-441a-ea4c-a5c2b8b5024c"
      },
      "source": [
        "#To print the string in upper case\n",
        "name.upper()\n",
        "print((name).upper())"
      ],
      "execution_count": 49,
      "outputs": [
        {
          "output_type": "stream",
          "text": [
            "ARKAPRABHA SAMANTA\n"
          ],
          "name": "stdout"
        }
      ]
    },
    {
      "cell_type": "code",
      "metadata": {
        "id": "deAKBpTcKb6F"
      },
      "source": [
        "capital = 'MY NAME IS ARKA'"
      ],
      "execution_count": 50,
      "outputs": []
    },
    {
      "cell_type": "code",
      "metadata": {
        "colab": {
          "base_uri": "https://localhost:8080/"
        },
        "id": "pzO_b4iuKb6G",
        "outputId": "b00661ad-c8a8-446f-fcdd-18f7048d27f7"
      },
      "source": [
        "print(capital)"
      ],
      "execution_count": 51,
      "outputs": [
        {
          "output_type": "stream",
          "text": [
            "MY NAME IS ARKA\n"
          ],
          "name": "stdout"
        }
      ]
    },
    {
      "cell_type": "code",
      "metadata": {
        "colab": {
          "base_uri": "https://localhost:8080/",
          "height": 37
        },
        "id": "xKAeRO25Kb6H",
        "outputId": "3f6ae127-c163-43db-8fa4-4afa291ef623"
      },
      "source": [
        "capital.lower()"
      ],
      "execution_count": 52,
      "outputs": [
        {
          "output_type": "execute_result",
          "data": {
            "application/vnd.google.colaboratory.intrinsic+json": {
              "type": "string"
            },
            "text/plain": [
              "'my name is arka'"
            ]
          },
          "metadata": {
            "tags": []
          },
          "execution_count": 52
        }
      ]
    },
    {
      "cell_type": "code",
      "metadata": {
        "colab": {
          "base_uri": "https://localhost:8080/"
        },
        "id": "IOetul24Kb6I",
        "outputId": "4227e477-3a8d-4733-9a0a-088ad07ffb1d"
      },
      "source": [
        "\n",
        "print(capital.lower())"
      ],
      "execution_count": 53,
      "outputs": [
        {
          "output_type": "stream",
          "text": [
            "my name is arka\n"
          ],
          "name": "stdout"
        }
      ]
    },
    {
      "cell_type": "code",
      "metadata": {
        "colab": {
          "base_uri": "https://localhost:8080/"
        },
        "id": "xqZdfjCUKb6J",
        "outputId": "4d680797-c9ce-4bfb-efd8-3bcbad624119"
      },
      "source": [
        "name.split()"
      ],
      "execution_count": 54,
      "outputs": [
        {
          "output_type": "execute_result",
          "data": {
            "text/plain": [
              "['arkaprabha', 'samanta']"
            ]
          },
          "metadata": {
            "tags": []
          },
          "execution_count": 54
        }
      ]
    },
    {
      "cell_type": "code",
      "metadata": {
        "colab": {
          "base_uri": "https://localhost:8080/"
        },
        "id": "gDh4mU3jKb6J",
        "outputId": "36c24e9c-7abc-4b6e-c696-ba08da20e708"
      },
      "source": [
        "print(name.split())"
      ],
      "execution_count": 55,
      "outputs": [
        {
          "output_type": "stream",
          "text": [
            "['arkaprabha', 'samanta']\n"
          ],
          "name": "stdout"
        }
      ]
    },
    {
      "cell_type": "code",
      "metadata": {
        "colab": {
          "base_uri": "https://localhost:8080/"
        },
        "id": "7qJ1QRbqKb6K",
        "outputId": "fb23213e-7e93-4f0d-ac95-183b61c1c6ee"
      },
      "source": [
        "name.split('s')"
      ],
      "execution_count": 56,
      "outputs": [
        {
          "output_type": "execute_result",
          "data": {
            "text/plain": [
              "['arkaprabha ', 'amanta']"
            ]
          },
          "metadata": {
            "tags": []
          },
          "execution_count": 56
        }
      ]
    },
    {
      "cell_type": "code",
      "metadata": {
        "colab": {
          "base_uri": "https://localhost:8080/"
        },
        "id": "KEkGpSi1Kb6K",
        "outputId": "65fe048a-4824-47b0-c982-de6c1b55f37f"
      },
      "source": [
        "name.split('a')"
      ],
      "execution_count": 57,
      "outputs": [
        {
          "output_type": "execute_result",
          "data": {
            "text/plain": [
              "['', 'rk', 'pr', 'bh', ' s', 'm', 'nt', '']"
            ]
          },
          "metadata": {
            "tags": []
          },
          "execution_count": 57
        }
      ]
    },
    {
      "cell_type": "code",
      "metadata": {
        "id": "XQjn9MwLKb6K"
      },
      "source": [
        "\n",
        "\n"
      ],
      "execution_count": 57,
      "outputs": []
    },
    {
      "cell_type": "code",
      "metadata": {
        "id": "37gVT83-K2W8"
      },
      "source": [
        ""
      ],
      "execution_count": 57,
      "outputs": []
    }
  ]
}