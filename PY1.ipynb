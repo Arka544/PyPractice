{
  "nbformat": 4,
  "nbformat_minor": 0,
  "metadata": {
    "kernelspec": {
      "display_name": "Python 3",
      "language": "python",
      "name": "python3"
    },
    "language_info": {
      "codemirror_mode": {
        "name": "ipython",
        "version": 3
      },
      "file_extension": ".py",
      "mimetype": "text/x-python",
      "name": "python",
      "nbconvert_exporter": "python",
      "pygments_lexer": "ipython3",
      "version": "3.8.5"
    },
    "colab": {
      "name": "PY1.ipynb",
      "provenance": [],
      "include_colab_link": true
    }
  },
  "cells": [
    {
      "cell_type": "markdown",
      "metadata": {
        "id": "view-in-github",
        "colab_type": "text"
      },
      "source": [
        "<a href=\"https://colab.research.google.com/github/Arka544/PyPractice/blob/main/PY1.ipynb\" target=\"_parent\"><img src=\"https://colab.research.google.com/assets/colab-badge.svg\" alt=\"Open In Colab\"/></a>"
      ]
    },
    {
      "cell_type": "code",
      "metadata": {
        "id": "Ra8a60aPp9FY",
        "outputId": "81b1c8f9-6244-4a5d-931a-069089068953",
        "colab": {
          "base_uri": "https://localhost:8080/"
        }
      },
      "source": [
        "print(\"Hello\")"
      ],
      "execution_count": 1,
      "outputs": [
        {
          "output_type": "stream",
          "text": [
            "Hello\n"
          ],
          "name": "stdout"
        }
      ]
    },
    {
      "cell_type": "code",
      "metadata": {
        "id": "EqyYUTCBp9Ff"
      },
      "source": [
        "x = str(8)    # x will be '8'\n",
        "y = int(7)    # y will be 7\n",
        "z = float(5)  # z will be 5.0 "
      ],
      "execution_count": 2,
      "outputs": []
    },
    {
      "cell_type": "code",
      "metadata": {
        "id": "zVZeR9oip9Fj",
        "outputId": "a5a337cb-b047-4ba1-8ff1-31d999abf108",
        "colab": {
          "base_uri": "https://localhost:8080/"
        }
      },
      "source": [
        "x = 15\n",
        "y = \"Alexa\"\n",
        "z = 2.0\n",
        "print(type(x))\n",
        "print(type(y)) \n",
        "print(type(z))"
      ],
      "execution_count": 3,
      "outputs": [
        {
          "output_type": "stream",
          "text": [
            "<class 'int'>\n",
            "<class 'str'>\n",
            "<class 'float'>\n"
          ],
          "name": "stdout"
        }
      ]
    },
    {
      "cell_type": "code",
      "metadata": {
        "id": "cN4mlCXgp9Fn",
        "outputId": "d5616ece-f2f8-4e23-f2e3-6d6fef348a6d",
        "colab": {
          "base_uri": "https://localhost:8080/"
        }
      },
      "source": [
        "a = \"a programming language\"\n",
        "print(\"Python is \" + a)"
      ],
      "execution_count": 4,
      "outputs": [
        {
          "output_type": "stream",
          "text": [
            "Python is a programming language\n"
          ],
          "name": "stdout"
        }
      ]
    },
    {
      "cell_type": "code",
      "metadata": {
        "id": "72kirrZrp9Fr",
        "outputId": "71f00de2-28b0-4953-b1fe-85933fca0a14",
        "colab": {
          "base_uri": "https://localhost:8080/"
        }
      },
      "source": [
        "#global variables\n",
        "a = \"is a programming language\"\n",
        "\n",
        "def myfunc():\n",
        "  print(\"Python is \" + a)\n",
        "\n",
        "myfunc() "
      ],
      "execution_count": 5,
      "outputs": [
        {
          "output_type": "stream",
          "text": [
            "Python is is a programming language\n"
          ],
          "name": "stdout"
        }
      ]
    },
    {
      "cell_type": "code",
      "metadata": {
        "id": "pq1gBlY4p9Fu",
        "outputId": "1a9c59f2-4aaf-416b-e987-b1026f557c98",
        "colab": {
          "base_uri": "https://localhost:8080/"
        }
      },
      "source": [
        "#use of global keyword\n",
        "x = \"awesome\"\n",
        "\n",
        "def myfunc():\n",
        "  global x\n",
        "  x = \"an excellent programming language\"\n",
        "\n",
        "myfunc()\n",
        "\n",
        "print(\"Python is \" + x) "
      ],
      "execution_count": 6,
      "outputs": [
        {
          "output_type": "stream",
          "text": [
            "Python is an excellent programming language\n"
          ],
          "name": "stdout"
        }
      ]
    },
    {
      "cell_type": "code",
      "metadata": {
        "id": "Ll8JySFSp9Fw",
        "outputId": "268a5e2e-abcf-45a6-8f4c-049204392c2f",
        "colab": {
          "base_uri": "https://localhost:8080/"
        }
      },
      "source": [
        "def subtract(a,b):\n",
        "    return a-b\n",
        "print(\"print 3-4:\", subtract(3,4))\n",
        "print(\"print 4-3:\", subtract(a=4, b=3))"
      ],
      "execution_count": 7,
      "outputs": [
        {
          "output_type": "stream",
          "text": [
            "print 3-4: -1\n",
            "print 4-3: 1\n"
          ],
          "name": "stdout"
        }
      ]
    },
    {
      "cell_type": "code",
      "metadata": {
        "id": "VSP-9T-3p9Fy",
        "outputId": "98ecd7d0-c4a1-4842-ab24-e070fc5e2556",
        "colab": {
          "base_uri": "https://localhost:8080/"
        }
      },
      "source": [
        "def cube(x):\n",
        "    return x**3\n",
        "print(\"Cube of 5: \",cube(5))"
      ],
      "execution_count": 8,
      "outputs": [
        {
          "output_type": "stream",
          "text": [
            "Cube of 5:  125\n"
          ],
          "name": "stdout"
        }
      ]
    },
    {
      "cell_type": "code",
      "metadata": {
        "id": "IW2YmFjgqBFJ"
      },
      "source": [
        ""
      ],
      "execution_count": null,
      "outputs": []
    }
  ]
}