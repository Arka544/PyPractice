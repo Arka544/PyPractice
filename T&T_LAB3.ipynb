{
  "nbformat": 4,
  "nbformat_minor": 0,
  "metadata": {
    "kernelspec": {
      "display_name": "Python 3",
      "language": "python",
      "name": "python3"
    },
    "language_info": {
      "codemirror_mode": {
        "name": "ipython",
        "version": 3
      },
      "file_extension": ".py",
      "mimetype": "text/x-python",
      "name": "python",
      "nbconvert_exporter": "python",
      "pygments_lexer": "ipython3",
      "version": "3.8.5"
    },
    "colab": {
      "name": "T&T LAB3.ipynb",
      "provenance": [],
      "include_colab_link": true
    }
  },
  "cells": [
    {
      "cell_type": "markdown",
      "metadata": {
        "id": "view-in-github",
        "colab_type": "text"
      },
      "source": [
        "<a href=\"https://colab.research.google.com/github/Arka544/PyPractice/blob/main/T%26T_LAB3.ipynb\" target=\"_parent\"><img src=\"https://colab.research.google.com/assets/colab-badge.svg\" alt=\"Open In Colab\"/></a>"
      ]
    },
    {
      "cell_type": "code",
      "metadata": {
        "id": "XmBTqsklrFMT"
      },
      "source": [
        "class Student:\n",
        "    def __init__(self, name):\n",
        "        self.name = name\n",
        "        self.marks = {}\n",
        "    def addMarks(self, subject, marks):\n",
        "        self.marks.update({ subject: marks})\n",
        "    def printTotal(self):\n",
        "        total = 0\n",
        "        maximum = 0\n",
        "        for key in self.marks:\n",
        "            total += self.marks[key]\n",
        "            maximum += 100\n",
        "        print(self.name,'obtained',total,'out of',maximum)"
      ],
      "execution_count": 1,
      "outputs": []
    },
    {
      "cell_type": "code",
      "metadata": {
        "id": "jQ1MmndurFMa",
        "outputId": "d9b72731-8446-488e-cd0a-a58471b6349b",
        "colab": {
          "base_uri": "https://localhost:8080/"
        }
      },
      "source": [
        "s1 = Student(\"Tim\")\n",
        "s1.addMarks(\"Math\", 80)\n",
        "s1.addMarks(\"Physics\", 77)\n",
        "s1.addMarks(\"Literature\", 91)\n",
        "s1.printTotal()"
      ],
      "execution_count": 2,
      "outputs": [
        {
          "output_type": "stream",
          "text": [
            "Tim obtained 248 out of 300\n"
          ],
          "name": "stdout"
        }
      ]
    },
    {
      "cell_type": "code",
      "metadata": {
        "id": "wBMYL_w4rFMd"
      },
      "source": [
        "class Student:\n",
        "    def __init__(self, name):\n",
        "        self.name = name\n",
        "        self.marks = {}\n",
        "    def addMarks(self, subject, marks):\n",
        "        self.marks.update({ subject: marks})\n",
        "    def getMarks(self):\n",
        "        total=0\n",
        "        maximum=0\n",
        "        for sub in self.marks:\n",
        "            total+=self.marks[sub]\n",
        "            maximum+=100\n",
        "        return total,maximum\n",
        "    def printTotal(self):\n",
        "        total,maximum=self.getMarks()\n",
        "        print(self.name,'obtained',total,'out of',maximum)\n",
        "    def printPercent(self):\n",
        "        total,maximum=self.getMarks()\n",
        "        print(self.name,'obtained',round(total/maximum*100,1),'%') "
      ],
      "execution_count": 3,
      "outputs": []
    },
    {
      "cell_type": "code",
      "metadata": {
        "id": "lE6byhh2rFMf",
        "outputId": "3ad57ef2-ff0a-4b47-f078-db8e86cffb88",
        "colab": {
          "base_uri": "https://localhost:8080/"
        }
      },
      "source": [
        "s1 = Student(\"Arka\")\n",
        "s1.addMarks(\"Maths\", 84)\n",
        "s1.addMarks(\"Physics\", 79)\n",
        "s1.addMarks(\"Literature\", 94)\n",
        "s1.printTotal()\n",
        "s1.printPercent() "
      ],
      "execution_count": 4,
      "outputs": [
        {
          "output_type": "stream",
          "text": [
            "Arka obtained 257 out of 300\n",
            "Arka obtained 85.7 %\n"
          ],
          "name": "stdout"
        }
      ]
    },
    {
      "cell_type": "code",
      "metadata": {
        "id": "u1fISaTGrFMj"
      },
      "source": [
        "class Student:\n",
        "    def __init__(self, name):\n",
        "        self.name = name\n",
        "        self.marks = {}\n",
        "    def addMarks(self, subject, marks):\n",
        "        self.marks.update({ subject: marks})\n",
        "    def getMarks(self):\n",
        "        total=0\n",
        "        maximum=0\n",
        "        for sub in self.marks:\n",
        "            total+=self.marks[sub]\n",
        "            maximum+=100\n",
        "        return total,maximum\n",
        "    def printTotal(self):\n",
        "        total,maximum=self.getMarks()\n",
        "        print(self.name,'obtained',total,'out of',maximum)\n",
        "    def printPercent(self):\n",
        "        total,maximum=self.getMarks()\n",
        "        print(self.name,'obtained',round(total/maximum*100,2),'%') "
      ],
      "execution_count": 5,
      "outputs": []
    },
    {
      "cell_type": "code",
      "metadata": {
        "id": "CyWMrtqDrFMm",
        "outputId": "b799f35a-ff9a-4c2d-e165-83a54bf12b62",
        "colab": {
          "base_uri": "https://localhost:8080/"
        }
      },
      "source": [
        "s1 = Student(\"Alex\")\n",
        "s1.addMarks(\"Maths\", 84)\n",
        "s1.addMarks(\"Physics\", 79)\n",
        "s1.addMarks(\"Literature\", 94)\n",
        "s1.addMarks(\"Chemistry\",86)\n",
        "s1.printTotal()\n",
        "s1.printPercent()  "
      ],
      "execution_count": 6,
      "outputs": [
        {
          "output_type": "stream",
          "text": [
            "Alex obtained 343 out of 400\n",
            "Alex obtained 85.75 %\n"
          ],
          "name": "stdout"
        }
      ]
    },
    {
      "cell_type": "code",
      "metadata": {
        "id": "FXCKjslNrFMp"
      },
      "source": [
        ""
      ],
      "execution_count": null,
      "outputs": []
    }
  ]
}